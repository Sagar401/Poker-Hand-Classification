{
 "cells": [
  {
   "cell_type": "code",
   "execution_count": 104,
   "metadata": {
    "collapsed": true
   },
   "outputs": [],
   "source": [
    "import numpy as np\n",
    "import tensorflow as tf\n",
    "from io import StringIO"
   ]
  },
  {
   "cell_type": "code",
   "execution_count": 105,
   "metadata": {
    "collapsed": true
   },
   "outputs": [],
   "source": [
    "# Package imports\n",
    "# Matplotlib \n",
    "import matplotlib\n",
    "import matplotlib.pyplot as plt\n",
    "# SciKitLearn is a machine learning utilities library\n",
    "import sklearn\n",
    "# The sklearn dataset module helps generating datasets\n",
    "import sklearn.datasets\n",
    "import sklearn.linear_model\n",
    "from sklearn.preprocessing import OneHotEncoder\n",
    "from sklearn.metrics import accuracy_score\n",
    "from tensorflow.python.framework import ops\n",
    "\n",
    "%matplotlib inline"
   ]
  },
  {
   "cell_type": "code",
   "execution_count": 106,
   "metadata": {
    "collapsed": true
   },
   "outputs": [],
   "source": [
    "x = np.genfromtxt('poker-hand-training-true.data', delimiter=',',dtype=None)\n",
    "y = np.genfromtxt('poker-hand-testing.data', delimiter=',',dtype=None)"
   ]
  },
  {
   "cell_type": "code",
   "execution_count": 107,
   "metadata": {},
   "outputs": [
    {
     "name": "stdout",
     "output_type": "stream",
     "text": [
      "[[ 1 10  1 ...,  1  1  9]\n",
      " [ 2 11  2 ...,  2  1  9]\n",
      " [ 3 12  3 ...,  3  1  9]\n",
      " ..., \n",
      " [ 2  1  2 ...,  4 13  1]\n",
      " [ 2 12  4 ...,  4  9  1]\n",
      " [ 1  7  3 ...,  3  7  1]]\n"
     ]
    }
   ],
   "source": [
    "print(x)"
   ]
  },
  {
   "cell_type": "code",
   "execution_count": 108,
   "metadata": {},
   "outputs": [
    {
     "name": "stdout",
     "output_type": "stream",
     "text": [
      "(25010, 11)\n"
     ]
    }
   ],
   "source": [
    "print(x.shape)"
   ]
  },
  {
   "cell_type": "code",
   "execution_count": 109,
   "metadata": {
    "collapsed": true
   },
   "outputs": [],
   "source": [
    "y_train = x[0:,10]"
   ]
  },
  {
   "cell_type": "code",
   "execution_count": 110,
   "metadata": {},
   "outputs": [
    {
     "name": "stdout",
     "output_type": "stream",
     "text": [
      "[9 9 9 ..., 1 1 1]\n"
     ]
    }
   ],
   "source": [
    "print(y_train)"
   ]
  },
  {
   "cell_type": "code",
   "execution_count": 111,
   "metadata": {
    "collapsed": true
   },
   "outputs": [],
   "source": [
    "x_train = x[0:,0:10]"
   ]
  },
  {
   "cell_type": "code",
   "execution_count": 112,
   "metadata": {},
   "outputs": [
    {
     "name": "stdout",
     "output_type": "stream",
     "text": [
      "[[ 1 10  1 ..., 12  1  1]\n",
      " [ 2 11  2 ..., 12  2  1]\n",
      " [ 3 12  3 ..., 10  3  1]\n",
      " ..., \n",
      " [ 2  1  2 ...,  1  4 13]\n",
      " [ 2 12  4 ..., 12  4  9]\n",
      " [ 1  7  3 ...,  8  3  7]]\n",
      "(25010, 10)\n",
      "[[ 1  2  3 ...,  2  2  1]\n",
      " [10 11 12 ...,  1 12  7]\n",
      " [ 1  2  3 ...,  2  4  3]\n",
      " ..., \n",
      " [12 12 10 ...,  1 12  8]\n",
      " [ 1  2  3 ...,  4  4  3]\n",
      " [ 1  1  1 ..., 13  9  7]]\n"
     ]
    }
   ],
   "source": [
    "print(x_train)\n",
    "print(x_train.shape)\n",
    "print(x_train.reshape(x_train.shape[0], -1).T)"
   ]
  },
  {
   "cell_type": "code",
   "execution_count": 113,
   "metadata": {
    "collapsed": true
   },
   "outputs": [],
   "source": [
    "np.random.seed(0)"
   ]
  },
  {
   "cell_type": "code",
   "execution_count": 114,
   "metadata": {},
   "outputs": [
    {
     "name": "stdout",
     "output_type": "stream",
     "text": [
      "[[ 1  2  3 ...,  2  2  1]\n",
      " [10 11 12 ...,  1 12  7]\n",
      " [ 1  2  3 ...,  2  4  3]\n",
      " ..., \n",
      " [12 12 10 ...,  1 12  8]\n",
      " [ 1  2  3 ...,  4  4  3]\n",
      " [ 1  1  1 ..., 13  9  7]]\n"
     ]
    }
   ],
   "source": [
    "print(x_train.T)"
   ]
  },
  {
   "cell_type": "code",
   "execution_count": 115,
   "metadata": {},
   "outputs": [
    {
     "name": "stdout",
     "output_type": "stream",
     "text": [
      "[ 1  1  1 13  2  4  2  3  1 12  0]\n"
     ]
    }
   ],
   "source": [
    "print (y[0])\n",
    "y_test = y[0:,10]\n",
    "x_test = y[0:,0:10]"
   ]
  },
  {
   "cell_type": "code",
   "execution_count": 116,
   "metadata": {
    "collapsed": true
   },
   "outputs": [],
   "source": [
    "def convert_to_one_hot(Y, C):\n",
    "    Y = np.eye(C)[Y.reshape(-1)].T\n",
    "    return Y"
   ]
  },
  {
   "cell_type": "code",
   "execution_count": 117,
   "metadata": {
    "collapsed": true
   },
   "outputs": [],
   "source": [
    "def create_placeholders(n_x,n_y):\n",
    "    X = tf.placeholder(tf.float32,shape=[n_x,None],name='X')\n",
    "    Y = tf.placeholder(tf.float32, shape=[n_y,None], name='Y')\n",
    "    \n",
    "    return X, Y"
   ]
  },
  {
   "cell_type": "code",
   "execution_count": 118,
   "metadata": {},
   "outputs": [
    {
     "name": "stdout",
     "output_type": "stream",
     "text": [
      "(10, 25010)\n",
      "(10, 1000000)\n"
     ]
    }
   ],
   "source": [
    "y_train_new = convert_to_one_hot(y_train,10)\n",
    "y_test_new = convert_to_one_hot(y_test,10)\n",
    "print(y_train_new.shape)\n",
    "print(y_test_new.shape)"
   ]
  },
  {
   "cell_type": "code",
   "execution_count": 119,
   "metadata": {
    "collapsed": true
   },
   "outputs": [],
   "source": [
    "def initialize_parameters():\n",
    "    W1 = tf.get_variable(\"W1\", [50,10], initializer=tf.contrib.layers.xavier_initializer())\n",
    "    b1 = tf.get_variable(\"b1\", [50, 1], initializer=tf.contrib.layers.xavier_initializer())\n",
    "    W2 = tf.get_variable(\"W2\", [25,50], initializer=tf.contrib.layers.xavier_initializer())\n",
    "    b2 = tf.get_variable(\"b2\", [25, 1], initializer=tf.contrib.layers.xavier_initializer())\n",
    "    W3 = tf.get_variable(\"W3\", [10,25], initializer=tf.contrib.layers.xavier_initializer())\n",
    "    b3 = tf.get_variable(\"b3\", [10, 1], initializer=tf.contrib.layers.xavier_initializer())\n",
    "    \n",
    "    parameters = {\"W1\": W1,\n",
    "                  \"b1\": b1,\n",
    "                  \"W2\": W2,\n",
    "                  \"b2\": b2,\n",
    "                  \"W3\": W3,\n",
    "                  \"b3\": b3,\n",
    "                  }\n",
    "    \n",
    "    return parameters"
   ]
  },
  {
   "cell_type": "code",
   "execution_count": 120,
   "metadata": {
    "collapsed": true
   },
   "outputs": [],
   "source": [
    "def forward_propagation(X, parameters):\n",
    "    W1 = parameters['W1']\n",
    "    b1 = parameters['b1']\n",
    "    W2 = parameters['W2']\n",
    "    b2 = parameters['b2']\n",
    "    W3 = parameters['W3']\n",
    "    b3 = parameters['b3']\n",
    "    \n",
    "    \n",
    "    Z1 = tf.add(tf.matmul(W1,X),b1)\n",
    "    A1 = tf.nn.relu(Z1)\n",
    "    #A1 = tf.nn.dropout(A1, keep_prob = 0.99) #adding drop out for first layer with 0.98 probability.\n",
    "    Z2 = tf.add(tf.matmul(W2,A1),b2)\n",
    "    A2 = tf.nn.relu(Z2)\n",
    "    #A2 = tf.nn.dropout(A2, keep_prob = 0.91)\n",
    "    Z3 = tf.add(tf.matmul(W3, A2), b3)\n",
    "    \n",
    "    return Z3"
   ]
  },
  {
   "cell_type": "code",
   "execution_count": 121,
   "metadata": {
    "collapsed": true
   },
   "outputs": [],
   "source": [
    "def compute_cost(Z3,Y, parameters):\n",
    "    # to fit the tensorflow requirement for tf.nn.softmax_cross_entropy_with_logits(...,...)\n",
    "    logits = tf.transpose(Z3)\n",
    "    labels = tf.transpose(Y)\n",
    "    \n",
    "    #using L2 regularization \n",
    "    Lambda=0.025\n",
    "    \n",
    "    cost_normal = tf.reduce_mean(tf.nn.softmax_cross_entropy_with_logits(logits=logits, labels=labels))\n",
    "    \n",
    "    l2_cost = Lambda*(tf.nn.l2_loss(parameters[\"W1\"]) + tf.nn.l2_loss(parameters[\"W2\"]) + tf.nn.l2_loss(parameters[\"W3\"]))\n",
    "    \n",
    "    cost = tf.add(cost_normal, l2_cost, name='cost')\n",
    "    \n",
    "    return cost"
   ]
  },
  {
   "cell_type": "code",
   "execution_count": 123,
   "metadata": {},
   "outputs": [],
   "source": [
    "def model(X_train, Y_train,X_test, Y_test, learning_rate = 0.00003,\n",
    "          num_epochs = 2500, minibatch_size = 32, print_cost = True):\n",
    "    \n",
    "    ops.reset_default_graph()                         # to be able to rerun the model without overwriting tf variables\n",
    "    \n",
    "    (n_x, m) = X_train.shape\n",
    "    n_y = Y_train.shape[0]\n",
    "    \n",
    "    costs = []\n",
    "    \n",
    "    X, Y = create_placeholders(n_x, n_y)\n",
    "    #print(m)\n",
    "    \n",
    "    parameters = initialize_parameters()\n",
    "    \n",
    "    Z3 = forward_propagation(X, parameters)\n",
    "    \n",
    "    cost = compute_cost(Z3, Y , parameters)\n",
    "    \n",
    "    optimizer = tf.train.AdamOptimizer(learning_rate=learning_rate).minimize(cost)\n",
    "    \n",
    "    init = tf.global_variables_initializer()\n",
    "    \n",
    "    with tf.Session() as sess:\n",
    "        sess.run(init)\n",
    "        for i in range(num_epochs):  \n",
    "            sess.run([optimizer,cost], feed_dict={X: X_train, Y: Y_train}) # Take a gradient descent step using our inputs and labels\n",
    "\n",
    "            # That's all! The rest of the cell just outputs debug messages. \n",
    "            # Display logs per epoch step\n",
    "            if (i) % 100 == 0:\n",
    "                cc = sess.run(cost, feed_dict={X: X_train, Y:Y_train})\n",
    "                print (\"Training step:\", '%04d' % (i), \"cost=\", \"{:.9f}\".format(cc) )#, \\\"W=\", sess.run(W), \"b=\", sess.run(b)\n",
    "            #if print_cost == True and num_epochs % 100 == 0:\n",
    "             #   print (\"Cost after epoch %i: %f\" % (num_epochs, cost))\n",
    "            if print_cost == True and num_epochs % 5 == 0:\n",
    "                costs.append(cc)\n",
    "                 \n",
    "        # plot the cost\n",
    "        plt.plot(np.squeeze(costs))\n",
    "        plt.ylabel('cost')\n",
    "        plt.xlabel('iterations (per tens)')\n",
    "        plt.title(\"Learning rate =\" + str(learning_rate))\n",
    "        plt.show()\n",
    "        \n",
    "        parameters = sess.run(parameters)\n",
    "        print (\"Parameters have been trained!\")\n",
    "\n",
    "        \n",
    "        \n",
    "        # Calculate the correct predictions\n",
    "        correct_prediction = tf.equal(tf.argmax(Z3), tf.argmax(Y))\n",
    "        accuracy = tf.reduce_mean(tf.cast(correct_prediction, \"float\"))\n",
    "        \n",
    "        print (\"Train Accuracy:\", accuracy.eval({X: X_train, Y: Y_train}))\n",
    "        print (\"Test Accuracy:\", accuracy.eval({X: X_test, Y: Y_test}))\n",
    "       "
   ]
  },
  {
   "cell_type": "code",
   "execution_count": 125,
   "metadata": {},
   "outputs": [
    {
     "name": "stdout",
     "output_type": "stream",
     "text": [
      "Training step: 0000 cost= 4.985488892\n",
      "Training step: 0100 cost= 3.991859198\n",
      "Training step: 0200 cost= 3.260223150\n",
      "Training step: 0300 cost= 2.771762609\n",
      "Training step: 0400 cost= 2.471656322\n",
      "Training step: 0500 cost= 2.294132710\n",
      "Training step: 0600 cost= 2.184741020\n",
      "Training step: 0700 cost= 2.110076904\n",
      "Training step: 0800 cost= 2.053000212\n",
      "Training step: 0900 cost= 2.005035639\n",
      "Training step: 1000 cost= 1.963050365\n",
      "Training step: 1100 cost= 1.925229073\n",
      "Training step: 1200 cost= 1.890754938\n",
      "Training step: 1300 cost= 1.859027386\n",
      "Training step: 1400 cost= 1.829735756\n",
      "Training step: 1500 cost= 1.802467346\n",
      "Training step: 1600 cost= 1.776953459\n",
      "Training step: 1700 cost= 1.753005743\n",
      "Training step: 1800 cost= 1.730508089\n",
      "Training step: 1900 cost= 1.709544182\n",
      "Training step: 2000 cost= 1.690065384\n",
      "Training step: 2100 cost= 1.672005892\n",
      "Training step: 2200 cost= 1.655185103\n",
      "Training step: 2300 cost= 1.639514685\n",
      "Training step: 2400 cost= 1.624933243\n"
     ]
    },
    {
     "data": {
      "image/png": "[encoded data removed]",
      "text/plain": [
       "<matplotlib.figure.Figure at 0x265cc27c780>"
      ]
     },
     "metadata": {},
     "output_type": "display_data"
    },
    {
     "name": "stdout",
     "output_type": "stream",
     "text": [
      "Parameters have been trained!\n",
      "Train Accuracy: 0.491164\n",
      "Test Accuracy: 0.491691\n"
     ]
    }
   ],
   "source": [
    "parameters = model(x_train.T, y_train_new, x_test.T, y_test_new)"
   ]
  },
  {
   "cell_type": "code",
   "execution_count": null,
   "metadata": {
    "collapsed": true
   },
   "outputs": [],
   "source": []
  }
 ],
 "metadata": {
  "kernelspec": {
   "display_name": "Python 3",
   "language": "python",
   "name": "python3"
  },
  "language_info": {
   "codemirror_mode": {
    "name": "ipython",
    "version": 3
   },
   "file_extension": ".py",
   "mimetype": "text/x-python",
   "name": "python",
   "nbconvert_exporter": "python",
   "pygments_lexer": "ipython3",
   "version": "3.6.1"
  }
 },
 "nbformat": 4,
 "nbformat_minor": 2
}
