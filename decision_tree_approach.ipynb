{
 "cells": [
  {
   "cell_type": "code",
   "execution_count": 14,
   "metadata": {},
   "outputs": [],
   "source": [
    "import pandas as pd\n",
    "from sklearn import tree\n",
    "from sklearn.model_selection import train_test_split\n",
    "import numpy as np\n",
    "from sklearn.metrics import accuracy_score, classification_report,confusion_matrix\n",
    "from sklearn.neural_network import MLPClassifier\n",
    "from sklearn.preprocessing import StandardScaler"
   ]
  },
  {
   "cell_type": "code",
   "execution_count": 7,
   "metadata": {
    "collapsed": true
   },
   "outputs": [],
   "source": [
    "x = np.genfromtxt('poker-hand-training-true.data', delimiter=',',dtype=None)\n",
    "y = np.genfromtxt('poker-hand-testing.data', delimiter=',',dtype=None)\n",
    "\n",
    "x_train = x[0:,0:10]\n",
    "y_train = x[0:,10]\n",
    "\n",
    "x_test = y[0:,0:10]\n",
    "y_test = y[0:,10]"
   ]
  },
  {
   "cell_type": "code",
   "execution_count": 8,
   "metadata": {},
   "outputs": [
    {
     "data": {
      "text/plain": [
       "0.47832999999999998"
      ]
     },
     "execution_count": 8,
     "metadata": {},
     "output_type": "execute_result"
    }
   ],
   "source": [
    "clf = tree.DecisionTreeClassifier()\n",
    "clf.fit(X=x_train, y=y_train)\n",
    "clf.feature_importances_ # [ 1.,  0.,  0.]\n",
    "clf.score(X=x_test, y=y_test) # 1.0"
   ]
  },
  {
   "cell_type": "code",
   "execution_count": 15,
   "metadata": {},
   "outputs": [
    {
     "name": "stdout",
     "output_type": "stream",
     "text": [
      "(25010, 11)\n",
      "(1000000, 11)\n"
     ]
    }
   ],
   "source": [
    "data_train = pd.read_csv(filepath_or_buffer=\"poker-hand-training-true.data\", sep=',', header=None)\n",
    "data_test = pd.read_csv(filepath_or_buffer=\"poker-hand-testing.data\", sep=',', header=None)\n",
    "#----------------------------------------------------------------\n",
    "#Print it's Shape to get an idea of the data set:\n",
    "#----------------------------------------------------------------\n",
    "print(data_train.shape)\n",
    "print(data_test.shape)\n",
    "#----------------------------------------------------------------\n",
    "#Prepare the Data for Training and Testing:\n",
    "#----------------------------------------------------------------\n",
    "#Ready the Train Data\n",
    "array_train = data_train.values\n",
    "data_train = array_train[:,0:10]\n",
    "label_train = array_train[:,10]\n",
    "#Ready the Test Data\n",
    "array_test = data_test.values\n",
    "data_test = array_test[:,0:10]\n",
    "label_test = array_test[:,10]"
   ]
  },
  {
   "cell_type": "code",
   "execution_count": 16,
   "metadata": {},
   "outputs": [
    {
     "name": "stderr",
     "output_type": "stream",
     "text": [
      "C:\\ProgramData\\Anaconda3\\lib\\site-packages\\sklearn\\utils\\validation.py:429: DataConversionWarning: Data with input dtype int64 was converted to float64 by StandardScaler.\n",
      "  warnings.warn(msg, _DataConversionWarning)\n"
     ]
    },
    {
     "name": "stdout",
     "output_type": "stream",
     "text": [
      "             precision    recall  f1-score   support\n",
      "\n",
      "          0       0.97      0.99      0.98    501209\n",
      "          1       0.97      0.96      0.97    422498\n",
      "          2       0.87      0.79      0.83     47622\n",
      "          3       0.82      0.81      0.82     21121\n",
      "          4       0.26      0.09      0.14      3885\n",
      "          5       0.22      0.14      0.17      1996\n",
      "          6       0.72      0.39      0.50      1424\n",
      "          7       0.26      0.05      0.09       230\n",
      "          8       0.00      0.00      0.00        12\n",
      "          9       0.00      0.00      0.00         3\n",
      "\n",
      "avg / total       0.96      0.96      0.96   1000000\n",
      "\n",
      "Accuracy using MLPClassifier and Random Seed: 1 : 0.957466\n",
      "[[494728   4778      0      0    488    799      0      0    391     25]\n",
      " [ 12774 406728   1605    136    508    200      1      0    530     16]\n",
      " [    24   7103  37591   2815      1      0     83      5      0      0]\n",
      " [     0     79   3718  17208      0      0     86     30      0      0]\n",
      " [  3259    211      0      0    359     10      0      0     45      1]\n",
      " [  1622     15      0      0      1    288      0      0     41     29]\n",
      " [     0      0    113    759      0      0    552      0      0      0]\n",
      " [     0      0      0    171      0      0     47     12      0      0]\n",
      " [     7      0      0      0      4      1      0      0      0      0]\n",
      " [     2      0      0      0      0      0      0      0      1      0]]\n",
      "             precision    recall  f1-score   support\n",
      "\n",
      "          0       0.99      1.00      0.99    501209\n",
      "          1       1.00      1.00      1.00    422498\n",
      "          2       0.98      0.99      0.98     47622\n",
      "          3       0.95      0.95      0.95     21121\n",
      "          4       0.61      0.20      0.30      3885\n",
      "          5       0.10      0.05      0.07      1996\n",
      "          6       0.80      0.69      0.74      1424\n",
      "          7       0.23      0.06      0.09       230\n",
      "          8       0.00      0.00      0.00        12\n",
      "          9       0.00      0.00      0.00         3\n",
      "\n",
      "avg / total       0.99      0.99      0.99   1000000\n",
      "\n",
      "Accuracy using MLPClassifier and Random Seed: 2 : 0.991064\n",
      "[[499773      8      0      0    468    927      0      0     24      9]\n",
      " [     7 422349      4      0     26     71      0      0     34      7]\n",
      " [     0     20  47033    527      0      0     14     28      0      0]\n",
      " [     0      0    912  20028      0      0    170     11      0      0]\n",
      " [  3082     14      0      0    775      4      0      0      9      1]\n",
      " [  1875      1      0      0      2    109      0      0      4      5]\n",
      " [     0      0      0    436      0      0    984      4      0      0]\n",
      " [     0      0      0    162      0      0     55     13      0      0]\n",
      " [     9      0      0      0      2      1      0      0      0      0]\n",
      " [     3      0      0      0      0      0      0      0      0      0]]\n"
     ]
    },
    {
     "name": "stderr",
     "output_type": "stream",
     "text": [
      "C:\\ProgramData\\Anaconda3\\lib\\site-packages\\sklearn\\metrics\\classification.py:1113: UndefinedMetricWarning: Precision and F-score are ill-defined and being set to 0.0 in labels with no predicted samples.\n",
      "  'precision', 'predicted', average, warn_for)\n"
     ]
    },
    {
     "name": "stdout",
     "output_type": "stream",
     "text": [
      "             precision    recall  f1-score   support\n",
      "\n",
      "          0       0.99      1.00      0.99    501209\n",
      "          1       0.99      1.00      0.99    422498\n",
      "          2       0.92      0.96      0.94     47622\n",
      "          3       0.92      0.81      0.86     21121\n",
      "          4       0.66      0.09      0.17      3885\n",
      "          5       0.45      0.07      0.12      1996\n",
      "          6       0.56      0.60      0.58      1424\n",
      "          7       0.12      0.03      0.05       230\n",
      "          8       0.00      0.00      0.00        12\n",
      "          9       0.00      0.00      0.00         3\n",
      "\n",
      "avg / total       0.98      0.98      0.98   1000000\n",
      "\n",
      "Accuracy using MLPClassifier and Random Seed: 3 : 0.984232\n",
      "[[499381   1486      0      0    176    134      0      0     32      0]\n",
      " [  1275 420721    375      0     14     32      1      0     80      0]\n",
      " [     0   1131  45764    678      0      0     44      5      0      0]\n",
      " [     0      0   3524  17003      0      0    549     45      0      0]\n",
      " [  3407     64      0      0    368      1      0      0     45      0]\n",
      " [  1852      8      0      0      1    135      0      0      0      0]\n",
      " [     0      0      9    560      0      0    853      2      0      0]\n",
      " [     0      0      0    153      0      0     70      7      0      0]\n",
      " [    10      1      0      0      1      0      0      0      0      0]\n",
      " [     1      1      0      0      0      1      0      0      0      0]]\n",
      "             precision    recall  f1-score   support\n",
      "\n",
      "          0       0.98      0.99      0.98    501209\n",
      "          1       0.99      0.98      0.98    422498\n",
      "          2       0.94      0.88      0.91     47622\n",
      "          3       0.79      0.95      0.86     21121\n",
      "          4       0.55      0.21      0.30      3885\n",
      "          5       0.53      0.07      0.12      1996\n",
      "          6       0.62      0.27      0.37      1424\n",
      "          7       0.08      0.02      0.03       230\n",
      "          8       0.00      0.00      0.00        12\n",
      "          9       0.00      0.00      0.00         3\n",
      "\n",
      "avg / total       0.97      0.97      0.97   1000000\n",
      "\n",
      "Accuracy using MLPClassifier and Random Seed: 4 : 0.973977\n",
      "[[496250   4307      1      0    553     98      0      0      0      0]\n",
      " [  5974 414279   1922    180    125     18      0      0      0      0]\n",
      " [     0   1650  42145   3805      0      0     21      1      0      0]\n",
      " [     0     14    912  19965      0      0    185     45      0      0]\n",
      " [  3005     61      0      0    818      1      0      0      0      0]\n",
      " [  1843     18      0      0      1    134      0      0      0      0]\n",
      " [     0      0     35   1005      0      0    382      2      0      0]\n",
      " [     0      0      0    193      0      0     33      4      0      0]\n",
      " [     9      1      0      0      2      0      0      0      0      0]\n",
      " [     2      1      0      0      0      0      0      0      0      0]]\n",
      "             precision    recall  f1-score   support\n",
      "\n",
      "          0       0.99      1.00      0.99    501209\n",
      "          1       1.00      1.00      1.00    422498\n",
      "          2       0.90      0.95      0.93     47622\n",
      "          3       0.84      0.76      0.80     21121\n",
      "          4       0.72      0.03      0.07      3885\n",
      "          5       0.37      0.06      0.10      1996\n",
      "          6       0.87      0.11      0.20      1424\n",
      "          7       0.44      0.11      0.18       230\n",
      "          8       0.00      0.00      0.00        12\n",
      "          9       0.00      0.00      0.00         3\n",
      "\n",
      "avg / total       0.98      0.99      0.98   1000000\n",
      "\n",
      "Accuracy using MLPClassifier and Random Seed: 5 : 0.985358\n",
      "[[501003     18      0      0     33    153      0      0      0      2]\n",
      " [     2 422421     19      0     19     35      0      0      0      2]\n",
      " [     0    448  45408   1763      0      0      2      1      0      0]\n",
      " [     0      0   4991  16095      0      0     16     19      0      0]\n",
      " [  3716     35      0      0    133      1      0      0      0      0]\n",
      " [  1879      2      0      0      0    110      0      0      0      5]\n",
      " [     0      0     35   1214      0      0    162     13      0      0]\n",
      " [     0      0      0    197      0      0      7     26      0      0]\n",
      " [     9      1      0      0      1      1      0      0      0      0]\n",
      " [     2      0      0      0      0      1      0      0      0      0]]\n",
      "Mean Accuracy using MLPClassifier Classifier:  0.9784194\n"
     ]
    }
   ],
   "source": [
    "#----------------------------------------------------------------\n",
    "# Scaling the Data for our Main Model\n",
    "#----------------------------------------------------------------\n",
    "# Scale the Data to Make the NN easier to converge\n",
    "scaler = StandardScaler()\n",
    "# Fit only to the training data\n",
    "scaler.fit(data_train)  \n",
    "# Transform the training and testing data\n",
    "data_train = scaler.transform(data_train)\n",
    "data_test = scaler.transform(data_test)\n",
    "#----------------------------------------------------------------\n",
    "#Apply the MLPClassifier:\n",
    "#----------------------------------------------------------------\n",
    "acc_array = [0] * 5\n",
    "for s in range (1,6):\n",
    "    #Init MLPClassifier\n",
    "    clf = MLPClassifier(solver='adam', alpha=1e-5,hidden_layer_sizes=(64,64),\n",
    "                        activation='tanh', learning_rate_init=0.02,max_iter=2000,random_state=s)\n",
    "    #Fit the Model\n",
    "    result = clf.fit(data_train, label_train)\n",
    "    #Predict\n",
    "    prediction = clf.predict(data_test)\n",
    "    #Get Accuracy\n",
    "    acc = accuracy_score(label_test, prediction)\n",
    "    #Store in the Array\n",
    "    acc_array[s-1] = acc\n",
    "#----------------------------------------------------------------\n",
    "#Fetch & Print the Results:\n",
    "#----------------------------------------------------------------\n",
    "    print(classification_report(label_test,prediction))\n",
    "    print(\"Accuracy using MLPClassifier and Random Seed:\",s,\":\",str(acc)) \n",
    "    print(confusion_matrix(label_test, prediction))\n",
    "print(\"Mean Accuracy using MLPClassifier Classifier: \",np.array(acc_array).mean())"
   ]
  },
  {
   "cell_type": "code",
   "execution_count": null,
   "metadata": {
    "collapsed": true
   },
   "outputs": [],
   "source": []
  }
 ],
 "metadata": {
  "kernelspec": {
   "display_name": "Python 3",
   "language": "python",
   "name": "python3"
  },
  "language_info": {
   "codemirror_mode": {
    "name": "ipython",
    "version": 3
   },
   "file_extension": ".py",
   "mimetype": "text/x-python",
   "name": "python",
   "nbconvert_exporter": "python",
   "pygments_lexer": "ipython3",
   "version": "3.6.1"
  }
 },
 "nbformat": 4,
 "nbformat_minor": 2
}
